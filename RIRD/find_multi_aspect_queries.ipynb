{
 "cells": [
  {
   "cell_type": "code",
   "execution_count": 1,
   "metadata": {},
   "outputs": [
    {
     "data": {
      "text/html": [
       "<div>\n",
       "<style scoped>\n",
       "    .dataframe tbody tr th:only-of-type {\n",
       "        vertical-align: middle;\n",
       "    }\n",
       "\n",
       "    .dataframe tbody tr th {\n",
       "        vertical-align: top;\n",
       "    }\n",
       "\n",
       "    .dataframe thead th {\n",
       "        text-align: right;\n",
       "    }\n",
       "</style>\n",
       "<table border=\"1\" class=\"dataframe\">\n",
       "  <thead>\n",
       "    <tr style=\"text-align: right;\">\n",
       "      <th></th>\n",
       "      <th>query</th>\n",
       "      <th>restaurant</th>\n",
       "      <th>relevant</th>\n",
       "    </tr>\n",
       "  </thead>\n",
       "  <tbody>\n",
       "    <tr>\n",
       "      <th>2272</th>\n",
       "      <td>A bar with a patio</td>\n",
       "      <td>Miku</td>\n",
       "      <td>0</td>\n",
       "    </tr>\n",
       "    <tr>\n",
       "      <th>3272</th>\n",
       "      <td>A bar with a patio</td>\n",
       "      <td>Hokkaido Ramen Santouka</td>\n",
       "      <td>0</td>\n",
       "    </tr>\n",
       "    <tr>\n",
       "      <th>1472</th>\n",
       "      <td>A bar with a patio</td>\n",
       "      <td>Kekou Gelato House</td>\n",
       "      <td>0</td>\n",
       "    </tr>\n",
       "    <tr>\n",
       "      <th>3172</th>\n",
       "      <td>A bar with a patio</td>\n",
       "      <td>Konjiki Ramen</td>\n",
       "      <td>0</td>\n",
       "    </tr>\n",
       "    <tr>\n",
       "      <th>4472</th>\n",
       "      <td>A bar with a patio</td>\n",
       "      <td>Barque Smokehouse</td>\n",
       "      <td>0</td>\n",
       "    </tr>\n",
       "    <tr>\n",
       "      <th>...</th>\n",
       "      <td>...</td>\n",
       "      <td>...</td>\n",
       "      <td>...</td>\n",
       "    </tr>\n",
       "    <tr>\n",
       "      <th>2297</th>\n",
       "      <td>unhealthy salad</td>\n",
       "      <td>Miku</td>\n",
       "      <td>0</td>\n",
       "    </tr>\n",
       "    <tr>\n",
       "      <th>2197</th>\n",
       "      <td>unhealthy salad</td>\n",
       "      <td>Messini Authentic Gyros</td>\n",
       "      <td>0</td>\n",
       "    </tr>\n",
       "    <tr>\n",
       "      <th>2097</th>\n",
       "      <td>unhealthy salad</td>\n",
       "      <td>Manpuku Japanese Eatery</td>\n",
       "      <td>0</td>\n",
       "    </tr>\n",
       "    <tr>\n",
       "      <th>4497</th>\n",
       "      <td>unhealthy salad</td>\n",
       "      <td>Barque Smokehouse</td>\n",
       "      <td>0</td>\n",
       "    </tr>\n",
       "    <tr>\n",
       "      <th>2797</th>\n",
       "      <td>unhealthy salad</td>\n",
       "      <td>La Carnita</td>\n",
       "      <td>0</td>\n",
       "    </tr>\n",
       "  </tbody>\n",
       "</table>\n",
       "<p>5001 rows × 3 columns</p>\n",
       "</div>"
      ],
      "text/plain": [
       "                   query               restaurant  relevant\n",
       "2272  A bar with a patio                     Miku         0\n",
       "3272  A bar with a patio  Hokkaido Ramen Santouka         0\n",
       "1472  A bar with a patio       Kekou Gelato House         0\n",
       "3172  A bar with a patio            Konjiki Ramen         0\n",
       "4472  A bar with a patio        Barque Smokehouse         0\n",
       "...                  ...                      ...       ...\n",
       "2297     unhealthy salad                     Miku         0\n",
       "2197     unhealthy salad  Messini Authentic Gyros         0\n",
       "2097     unhealthy salad  Manpuku Japanese Eatery         0\n",
       "4497     unhealthy salad        Barque Smokehouse         0\n",
       "2797     unhealthy salad               La Carnita         0\n",
       "\n",
       "[5001 rows x 3 columns]"
      ]
     },
     "execution_count": 1,
     "metadata": {},
     "output_type": "execute_result"
    }
   ],
   "source": [
    "import pandas as pd\n",
    "rird = pd.read_csv('https://raw.githubusercontent.com/D3Mlab/rir/main/data/PMD.csv')\n",
    "\n",
    "rird_clean = (\n",
    "    rird\n",
    "    .rename(columns = {'Restaurant name': 'restaurant', 'If only Low or  High': 'relevant'})\n",
    "    [['query', 'restaurant', 'relevant']]\n",
    "    .sort_values('query')\n",
    ")\n",
    "\n",
    "rird_clean"
   ]
  },
  {
   "cell_type": "code",
   "execution_count": 6,
   "metadata": {},
   "outputs": [],
   "source": [
    "multi_aspect_queries = {\n",
    "    'Italian place with a burger': ['Italian place', 'burger'],\n",
    "    'A cafe that also offers beer': ['cafe', 'beer'],\n",
    "    'Japanese restaurant with pasta': ['Japanese restaurant', 'pasta'],\n",
    "    'An ice cream shop with bubble tea': ['ice cream shop', 'bubble tea'],\n",
    "    'I am in search of a fancy Pakistani restaurant with authentic food': ['fancy', 'Pakistani restaurant']\n",
    "}\n",
    "\n",
    "# (\n",
    "#     rird_clean\n",
    "#     .groupby('query')\n",
    "#     ['relevant'].sum()\n",
    "#     .sort_values()\n",
    "#     .head(10)\n",
    "# )"
   ]
  },
  {
   "cell_type": "code",
   "execution_count": 9,
   "metadata": {},
   "outputs": [
    {
     "data": {
      "text/plain": [
       "['Italian place',\n",
       " 'burger',\n",
       " 'cafe',\n",
       " 'beer',\n",
       " 'Japanese restaurant',\n",
       " 'pasta',\n",
       " 'ice cream shop',\n",
       " 'bubble tea',\n",
       " 'fancy',\n",
       " 'Pakistani restaurant']"
      ]
     },
     "execution_count": 9,
     "metadata": {},
     "output_type": "execute_result"
    }
   ],
   "source": [
    "[x for xs in multi_aspect_queries.values() for x in xs]"
   ]
  }
 ],
 "metadata": {
  "kernelspec": {
   "display_name": "Python 3",
   "language": "python",
   "name": "python3"
  },
  "language_info": {
   "codemirror_mode": {
    "name": "ipython",
    "version": 3
   },
   "file_extension": ".py",
   "mimetype": "text/x-python",
   "name": "python",
   "nbconvert_exporter": "python",
   "pygments_lexer": "ipython3",
   "version": "3.11.5"
  }
 },
 "nbformat": 4,
 "nbformat_minor": 2
}
